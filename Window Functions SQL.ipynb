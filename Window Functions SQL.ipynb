{
 "cells": [
  {
   "cell_type": "code",
   "execution_count": 172,
   "metadata": {},
   "outputs": [
    {
     "name": "stdout",
     "output_type": "stream",
     "text": [
      "Requirement already satisfied: ipython-sql in c:\\users\\lahar\\anaconda3\\lib\\site-packages (0.4.0)\n",
      "Requirement already satisfied: sqlalchemy>=0.6.7 in c:\\users\\lahar\\anaconda3\\lib\\site-packages (from ipython-sql) (1.3.20)\n",
      "Requirement already satisfied: ipython-genutils>=0.1.0 in c:\\users\\lahar\\anaconda3\\lib\\site-packages (from ipython-sql) (0.2.0)\n",
      "Requirement already satisfied: ipython>=1.0 in c:\\users\\lahar\\anaconda3\\lib\\site-packages (from ipython-sql) (7.19.0)\n",
      "Requirement already satisfied: six in c:\\users\\lahar\\anaconda3\\lib\\site-packages (from ipython-sql) (1.15.0)\n",
      "Requirement already satisfied: prettytable<1 in c:\\users\\lahar\\anaconda3\\lib\\site-packages (from ipython-sql) (0.7.2)\n",
      "Requirement already satisfied: sqlparse in c:\\users\\lahar\\anaconda3\\lib\\site-packages (from ipython-sql) (0.4.1)\n",
      "Requirement already satisfied: pygments in c:\\users\\lahar\\anaconda3\\lib\\site-packages (from ipython>=1.0->ipython-sql) (2.7.2)\n",
      "Requirement already satisfied: pickleshare in c:\\users\\lahar\\anaconda3\\lib\\site-packages (from ipython>=1.0->ipython-sql) (0.7.5)\n",
      "Requirement already satisfied: prompt-toolkit!=3.0.0,!=3.0.1,<3.1.0,>=2.0.0 in c:\\users\\lahar\\anaconda3\\lib\\site-packages (from ipython>=1.0->ipython-sql) (3.0.8)\n",
      "Requirement already satisfied: jedi>=0.10 in c:\\users\\lahar\\anaconda3\\lib\\site-packages (from ipython>=1.0->ipython-sql) (0.17.1)\n",
      "Requirement already satisfied: backcall in c:\\users\\lahar\\anaconda3\\lib\\site-packages (from ipython>=1.0->ipython-sql) (0.2.0)\n",
      "Requirement already satisfied: colorama; sys_platform == \"win32\" in c:\\users\\lahar\\anaconda3\\lib\\site-packages (from ipython>=1.0->ipython-sql) (0.4.4)\n",
      "Requirement already satisfied: setuptools>=18.5 in c:\\users\\lahar\\anaconda3\\lib\\site-packages (from ipython>=1.0->ipython-sql) (50.3.1.post20201107)\n",
      "Requirement already satisfied: traitlets>=4.2 in c:\\users\\lahar\\anaconda3\\lib\\site-packages (from ipython>=1.0->ipython-sql) (5.0.5)\n",
      "Requirement already satisfied: decorator in c:\\users\\lahar\\anaconda3\\lib\\site-packages (from ipython>=1.0->ipython-sql) (4.4.2)\n",
      "Requirement already satisfied: wcwidth in c:\\users\\lahar\\anaconda3\\lib\\site-packages (from prompt-toolkit!=3.0.0,!=3.0.1,<3.1.0,>=2.0.0->ipython>=1.0->ipython-sql) (0.2.5)\n",
      "Requirement already satisfied: parso<0.8.0,>=0.7.0 in c:\\users\\lahar\\anaconda3\\lib\\site-packages (from jedi>=0.10->ipython>=1.0->ipython-sql) (0.7.0)\n"
     ]
    }
   ],
   "source": [
    "!pip install ipython-sql"
   ]
  },
  {
   "cell_type": "code",
   "execution_count": 173,
   "metadata": {},
   "outputs": [
    {
     "name": "stdout",
     "output_type": "stream",
     "text": [
      "The sql extension is already loaded. To reload it, use:\n",
      "  %reload_ext sql\n"
     ]
    }
   ],
   "source": [
    "%load_ext sql"
   ]
  },
  {
   "cell_type": "code",
   "execution_count": 174,
   "metadata": {},
   "outputs": [],
   "source": [
    "%sql sqlite://"
   ]
  },
  {
   "cell_type": "code",
   "execution_count": 175,
   "metadata": {},
   "outputs": [
    {
     "name": "stdout",
     "output_type": "stream",
     "text": [
      " * sqlite://\n",
      "(sqlite3.OperationalError) table sales already exists\n",
      "[SQL: CREATE TABLE sales (\n",
      "    key       varchar(6),\n",
      "    ts        timestamp,\n",
      "    product   integer,\n",
      "    completed boolean,\n",
      "    price     float\n",
      ");]\n",
      "(Background on this error at: http://sqlalche.me/e/13/e3q8)\n"
     ]
    }
   ],
   "source": [
    "%%sql\n",
    "CREATE TABLE sales\n",
    "(\n",
    "    key       varchar(6),\n",
    "    ts        timestamp,\n",
    "    product   integer,\n",
    "    completed boolean,\n",
    "    price     float\n",
    ");\n",
    "INSERT INTO sales\n",
    "VALUES ('sale_1', '2019-11-08 00:00', 0, TRUE, 1.1),\n",
    "       ('sale_2', '2019-11-08 01:00', 0, FALSE, 1.2),\n",
    "       ('sale_3', '2019-11-08 01:00', 0, TRUE, 1.3),\n",
    "       ('sale_4', '2019-11-08 01:00', 1, FALSE, 1.4),\n",
    "       ('sale_5', '2019-11-08 02:00', 1, TRUE, 1.5),\n",
    "       ('sale_6', '2019-11-08 02:00', 1, TRUE, 1.5);"
   ]
  },
  {
   "cell_type": "code",
   "execution_count": 176,
   "metadata": {},
   "outputs": [
    {
     "name": "stdout",
     "output_type": "stream",
     "text": [
      " * sqlite://\n",
      "Done.\n"
     ]
    },
    {
     "data": {
      "text/html": [
       "<table>\n",
       "    <tr>\n",
       "        <th>key</th>\n",
       "        <th>ts</th>\n",
       "        <th>product</th>\n",
       "        <th>completed</th>\n",
       "        <th>price</th>\n",
       "    </tr>\n",
       "</table>"
      ],
      "text/plain": [
       "[]"
      ]
     },
     "execution_count": 176,
     "metadata": {},
     "output_type": "execute_result"
    }
   ],
   "source": [
    "%%sql\n",
    "select * from sales;"
   ]
  },
  {
   "cell_type": "markdown",
   "metadata": {},
   "source": [
    "##### Using Row Number and Rank Function to Check if there are any duplicates or get the Max or Min record\n",
    "\n",
    "- In the above example because we have 3 products with sold on the same day with different Time. So if we want to consider the First order or last Order we can use Row Number Function\n",
    "- Rank Funtion can be used to Rank the Product based on the time and price. "
   ]
  },
  {
   "cell_type": "code",
   "execution_count": 177,
   "metadata": {},
   "outputs": [
    {
     "name": "stdout",
     "output_type": "stream",
     "text": [
      " * sqlite://\n",
      "Done.\n"
     ]
    },
    {
     "data": {
      "text/html": [
       "<table>\n",
       "    <tr>\n",
       "        <th>key</th>\n",
       "        <th>ts</th>\n",
       "        <th>product</th>\n",
       "        <th>price</th>\n",
       "        <th>row_num</th>\n",
       "        <th>rank_ts</th>\n",
       "        <th>rank_ts_price</th>\n",
       "    </tr>\n",
       "</table>"
      ],
      "text/plain": [
       "[]"
      ]
     },
     "execution_count": 177,
     "metadata": {},
     "output_type": "execute_result"
    }
   ],
   "source": [
    "%%sql\n",
    "select key,ts,product, price,\n",
    "row_number() over (partition by product order by ts) as row_num,\n",
    "rank() over (partition by product order by ts) as rank_ts,\n",
    "rank() over (partition by product order by ts, price) as rank_ts_price\n",
    "from sales"
   ]
  },
  {
   "cell_type": "code",
   "execution_count": 178,
   "metadata": {},
   "outputs": [
    {
     "name": "stdout",
     "output_type": "stream",
     "text": [
      " * sqlite://\n",
      "Done.\n"
     ]
    },
    {
     "data": {
      "text/html": [
       "<table>\n",
       "    <tr>\n",
       "        <th>key</th>\n",
       "        <th>ts</th>\n",
       "        <th>product</th>\n",
       "        <th>price</th>\n",
       "        <th>row_num</th>\n",
       "    </tr>\n",
       "</table>"
      ],
      "text/plain": [
       "[]"
      ]
     },
     "execution_count": 178,
     "metadata": {},
     "output_type": "execute_result"
    }
   ],
   "source": [
    "%%sql\n",
    "select * from (\n",
    "select key,ts,product, price, row_number() over (partition by product order by ts) as row_num\n",
    "from sales)\n",
    "where row_num = 1;"
   ]
  },
  {
   "cell_type": "markdown",
   "metadata": {},
   "source": [
    "#### LEAD and LAG functions to check the Forward and the Backward data."
   ]
  },
  {
   "cell_type": "code",
   "execution_count": 179,
   "metadata": {},
   "outputs": [
    {
     "name": "stdout",
     "output_type": "stream",
     "text": [
      " * sqlite://\n",
      "Done.\n"
     ]
    },
    {
     "data": {
      "text/html": [
       "<table>\n",
       "    <tr>\n",
       "        <th>key</th>\n",
       "        <th>ts</th>\n",
       "        <th>product</th>\n",
       "        <th>completed</th>\n",
       "        <th>price</th>\n",
       "        <th>lag</th>\n",
       "        <th>lead</th>\n",
       "    </tr>\n",
       "</table>"
      ],
      "text/plain": [
       "[]"
      ]
     },
     "execution_count": 179,
     "metadata": {},
     "output_type": "execute_result"
    }
   ],
   "source": [
    "%%sql\n",
    "select *,\n",
    "lag(price) over(partition by product) as lag,\n",
    "lead(price) over(partition by product) as lead\n",
    "from sales;"
   ]
  },
  {
   "cell_type": "markdown",
   "metadata": {},
   "source": [
    "#### AVG function"
   ]
  },
  {
   "cell_type": "code",
   "execution_count": 180,
   "metadata": {},
   "outputs": [
    {
     "name": "stdout",
     "output_type": "stream",
     "text": [
      " * sqlite://\n",
      "Done.\n"
     ]
    },
    {
     "data": {
      "text/html": [
       "<table>\n",
       "    <tr>\n",
       "        <th>key</th>\n",
       "        <th>ts</th>\n",
       "        <th>product</th>\n",
       "        <th>completed</th>\n",
       "        <th>price</th>\n",
       "        <th>Avg</th>\n",
       "        <th>Avg_prod</th>\n",
       "        <th>Avg_1</th>\n",
       "    </tr>\n",
       "</table>"
      ],
      "text/plain": [
       "[]"
      ]
     },
     "execution_count": 180,
     "metadata": {},
     "output_type": "execute_result"
    }
   ],
   "source": [
    "%%sql\n",
    "select *,\n",
    "Round(avg(price) over(),2) as Avg,\n",
    "Round(avg(price) over(partition by product),2) as Avg_prod,\n",
    "Round(avg(price) over(partition by product order by completed),2) as Avg\n",
    "from sales"
   ]
  },
  {
   "cell_type": "code",
   "execution_count": 181,
   "metadata": {},
   "outputs": [
    {
     "name": "stdout",
     "output_type": "stream",
     "text": [
      " * sqlite://\n",
      "Done.\n",
      "20 rows affected.\n",
      "Done.\n",
      "5 rows affected.\n",
      "Done.\n",
      "20 rows affected.\n"
     ]
    },
    {
     "data": {
      "text/plain": [
       "[]"
      ]
     },
     "execution_count": 181,
     "metadata": {},
     "output_type": "execute_result"
    }
   ],
   "source": [
    "%%sql\n",
    "CREATE TABLE IF NOT EXISTS \"employee\" (\n",
    "    \"id\" INT,\n",
    "    \"first_name\" TEXT,\n",
    "    \"last_name\" TEXT,\n",
    "    \"department_id\" INT,\n",
    "    \"salary\" INT,\n",
    "    \"years_worked\" INT\n",
    ");\n",
    "INSERT INTO \"employee\" VALUES\n",
    "    (1,'Diane','Turner',1,5330,4),\n",
    "    (2,'Clarence','Robinson',1,3617,2),\n",
    "    (3,'Eugene','Phillips',1,4877,2),\n",
    "    (4,'Philip','Mitchell',1,5259,3),\n",
    "    (5,'Ann','Wright',2,2094,5),\n",
    "    (6,'Charles','Wilson',2,5167,5),\n",
    "    (7,'Russell','Johnson',2,3762,4),\n",
    "    (8,'Jacqueline','Cook',2,6923,3),\n",
    "    (9,'Larry','Lee',3,2796,4),\n",
    "    (10,'Willie','Patterson',3,4771,5),\n",
    "    (11,'Janet','Ramirez',3,3782,2),\n",
    "    (12,'Doris','Bryant',3,6419,1),\n",
    "    (13,'Amy','Williams',3,6261,1),\n",
    "    (14,'Keith','Scott',3,4928,8),\n",
    "    (15,'Karen','Morris',4,6347,6),\n",
    "    (16,'Kathy','Sanders',4,6286,1),\n",
    "    (17,'Joe','Thompson',5,5639,3),\n",
    "    (18,'Barbara','Clark',5,3232,1),\n",
    "    (19,'Todd','Bell',5,4653,1),\n",
    "    (20,'Ronald','Butler',5,2076,5);\n",
    "\n",
    "CREATE TABLE IF NOT EXISTS \"department\" (\n",
    "    \"id\" INT,\n",
    "    \"name\" TEXT\n",
    ");\n",
    "INSERT INTO \"department\" VALUES\n",
    "    (1,'IT'),\n",
    "    (2,'Management'),\n",
    "    (3,'Human Resources'),\n",
    "    (4,'Accounting'),\n",
    "    (5,'Help Desk');\n",
    "    \n",
    "CREATE TABLE IF NOT EXISTS \"purchase\" (\n",
    "    \"id\" INT,\n",
    "    \"department_id\" INT,\n",
    "    \"item\" TEXT,\n",
    "    \"price\" INT\n",
    ");\n",
    "INSERT INTO \"purchase\" VALUES\n",
    "    (1,4,'monitor',531),\n",
    "    (2,1,'printer',315),\n",
    "    (3,3,'whiteboard',170),\n",
    "    (4,5,'training',117),\n",
    "    (5,3,'computer',2190),\n",
    "    (6,1,'monitor',418),\n",
    "    (7,3,'whiteboard',120),\n",
    "    (8,3,'monitor',388),\n",
    "    (9,5,'paper',37),\n",
    "    (10,1,'paper',695),\n",
    "    (11,3,'projector',407),\n",
    "    (12,4,'garden party',986),\n",
    "    (13,5,'projector',481),\n",
    "    (14,2,'chair',180),\n",
    "    (15,2,'desk',854),\n",
    "    (16,2,'post-it',15),\n",
    "    (17,3,'paper',60),\n",
    "    (18,2,'tv',943),\n",
    "    (19,2,'desk',478),\n",
    "    (20,5,'keyboard',214);\n"
   ]
  },
  {
   "cell_type": "code",
   "execution_count": 182,
   "metadata": {},
   "outputs": [
    {
     "name": "stdout",
     "output_type": "stream",
     "text": [
      " * sqlite://\n",
      "Done.\n"
     ]
    },
    {
     "data": {
      "text/html": [
       "<table>\n",
       "    <tr>\n",
       "        <th>id</th>\n",
       "        <th>first_name</th>\n",
       "        <th>last_name</th>\n",
       "        <th>department_id</th>\n",
       "        <th>salary</th>\n",
       "        <th>years_worked</th>\n",
       "    </tr>\n",
       "    <tr>\n",
       "        <td>1</td>\n",
       "        <td>Diane</td>\n",
       "        <td>Turner</td>\n",
       "        <td>1</td>\n",
       "        <td>5330</td>\n",
       "        <td>4</td>\n",
       "    </tr>\n",
       "    <tr>\n",
       "        <td>2</td>\n",
       "        <td>Clarence</td>\n",
       "        <td>Robinson</td>\n",
       "        <td>1</td>\n",
       "        <td>3617</td>\n",
       "        <td>2</td>\n",
       "    </tr>\n",
       "    <tr>\n",
       "        <td>3</td>\n",
       "        <td>Eugene</td>\n",
       "        <td>Phillips</td>\n",
       "        <td>1</td>\n",
       "        <td>4877</td>\n",
       "        <td>2</td>\n",
       "    </tr>\n",
       "    <tr>\n",
       "        <td>4</td>\n",
       "        <td>Philip</td>\n",
       "        <td>Mitchell</td>\n",
       "        <td>1</td>\n",
       "        <td>5259</td>\n",
       "        <td>3</td>\n",
       "    </tr>\n",
       "    <tr>\n",
       "        <td>5</td>\n",
       "        <td>Ann</td>\n",
       "        <td>Wright</td>\n",
       "        <td>2</td>\n",
       "        <td>2094</td>\n",
       "        <td>5</td>\n",
       "    </tr>\n",
       "    <tr>\n",
       "        <td>6</td>\n",
       "        <td>Charles</td>\n",
       "        <td>Wilson</td>\n",
       "        <td>2</td>\n",
       "        <td>5167</td>\n",
       "        <td>5</td>\n",
       "    </tr>\n",
       "    <tr>\n",
       "        <td>7</td>\n",
       "        <td>Russell</td>\n",
       "        <td>Johnson</td>\n",
       "        <td>2</td>\n",
       "        <td>3762</td>\n",
       "        <td>4</td>\n",
       "    </tr>\n",
       "    <tr>\n",
       "        <td>8</td>\n",
       "        <td>Jacqueline</td>\n",
       "        <td>Cook</td>\n",
       "        <td>2</td>\n",
       "        <td>6923</td>\n",
       "        <td>3</td>\n",
       "    </tr>\n",
       "    <tr>\n",
       "        <td>9</td>\n",
       "        <td>Larry</td>\n",
       "        <td>Lee</td>\n",
       "        <td>3</td>\n",
       "        <td>2796</td>\n",
       "        <td>4</td>\n",
       "    </tr>\n",
       "    <tr>\n",
       "        <td>10</td>\n",
       "        <td>Willie</td>\n",
       "        <td>Patterson</td>\n",
       "        <td>3</td>\n",
       "        <td>4771</td>\n",
       "        <td>5</td>\n",
       "    </tr>\n",
       "    <tr>\n",
       "        <td>11</td>\n",
       "        <td>Janet</td>\n",
       "        <td>Ramirez</td>\n",
       "        <td>3</td>\n",
       "        <td>3782</td>\n",
       "        <td>2</td>\n",
       "    </tr>\n",
       "    <tr>\n",
       "        <td>12</td>\n",
       "        <td>Doris</td>\n",
       "        <td>Bryant</td>\n",
       "        <td>3</td>\n",
       "        <td>6419</td>\n",
       "        <td>1</td>\n",
       "    </tr>\n",
       "    <tr>\n",
       "        <td>13</td>\n",
       "        <td>Amy</td>\n",
       "        <td>Williams</td>\n",
       "        <td>3</td>\n",
       "        <td>6261</td>\n",
       "        <td>1</td>\n",
       "    </tr>\n",
       "    <tr>\n",
       "        <td>14</td>\n",
       "        <td>Keith</td>\n",
       "        <td>Scott</td>\n",
       "        <td>3</td>\n",
       "        <td>4928</td>\n",
       "        <td>8</td>\n",
       "    </tr>\n",
       "    <tr>\n",
       "        <td>15</td>\n",
       "        <td>Karen</td>\n",
       "        <td>Morris</td>\n",
       "        <td>4</td>\n",
       "        <td>6347</td>\n",
       "        <td>6</td>\n",
       "    </tr>\n",
       "    <tr>\n",
       "        <td>16</td>\n",
       "        <td>Kathy</td>\n",
       "        <td>Sanders</td>\n",
       "        <td>4</td>\n",
       "        <td>6286</td>\n",
       "        <td>1</td>\n",
       "    </tr>\n",
       "    <tr>\n",
       "        <td>17</td>\n",
       "        <td>Joe</td>\n",
       "        <td>Thompson</td>\n",
       "        <td>5</td>\n",
       "        <td>5639</td>\n",
       "        <td>3</td>\n",
       "    </tr>\n",
       "    <tr>\n",
       "        <td>18</td>\n",
       "        <td>Barbara</td>\n",
       "        <td>Clark</td>\n",
       "        <td>5</td>\n",
       "        <td>3232</td>\n",
       "        <td>1</td>\n",
       "    </tr>\n",
       "    <tr>\n",
       "        <td>19</td>\n",
       "        <td>Todd</td>\n",
       "        <td>Bell</td>\n",
       "        <td>5</td>\n",
       "        <td>4653</td>\n",
       "        <td>1</td>\n",
       "    </tr>\n",
       "    <tr>\n",
       "        <td>20</td>\n",
       "        <td>Ronald</td>\n",
       "        <td>Butler</td>\n",
       "        <td>5</td>\n",
       "        <td>2076</td>\n",
       "        <td>5</td>\n",
       "    </tr>\n",
       "</table>"
      ],
      "text/plain": [
       "[(1, 'Diane', 'Turner', 1, 5330, 4),\n",
       " (2, 'Clarence', 'Robinson', 1, 3617, 2),\n",
       " (3, 'Eugene', 'Phillips', 1, 4877, 2),\n",
       " (4, 'Philip', 'Mitchell', 1, 5259, 3),\n",
       " (5, 'Ann', 'Wright', 2, 2094, 5),\n",
       " (6, 'Charles', 'Wilson', 2, 5167, 5),\n",
       " (7, 'Russell', 'Johnson', 2, 3762, 4),\n",
       " (8, 'Jacqueline', 'Cook', 2, 6923, 3),\n",
       " (9, 'Larry', 'Lee', 3, 2796, 4),\n",
       " (10, 'Willie', 'Patterson', 3, 4771, 5),\n",
       " (11, 'Janet', 'Ramirez', 3, 3782, 2),\n",
       " (12, 'Doris', 'Bryant', 3, 6419, 1),\n",
       " (13, 'Amy', 'Williams', 3, 6261, 1),\n",
       " (14, 'Keith', 'Scott', 3, 4928, 8),\n",
       " (15, 'Karen', 'Morris', 4, 6347, 6),\n",
       " (16, 'Kathy', 'Sanders', 4, 6286, 1),\n",
       " (17, 'Joe', 'Thompson', 5, 5639, 3),\n",
       " (18, 'Barbara', 'Clark', 5, 3232, 1),\n",
       " (19, 'Todd', 'Bell', 5, 4653, 1),\n",
       " (20, 'Ronald', 'Butler', 5, 2076, 5)]"
      ]
     },
     "execution_count": 182,
     "metadata": {},
     "output_type": "execute_result"
    }
   ],
   "source": [
    "%%sql\n",
    "select *  from employee"
   ]
  },
  {
   "cell_type": "code",
   "execution_count": 187,
   "metadata": {},
   "outputs": [
    {
     "name": "stdout",
     "output_type": "stream",
     "text": [
      " * sqlite://\n",
      "Done.\n"
     ]
    },
    {
     "data": {
      "text/html": [
       "<table>\n",
       "    <tr>\n",
       "        <th>id</th>\n",
       "        <th>id_1</th>\n",
       "        <th>first_name</th>\n",
       "        <th>last_name</th>\n",
       "        <th>department_id</th>\n",
       "        <th>salary</th>\n",
       "        <th>row_num</th>\n",
       "        <th>Min</th>\n",
       "        <th>Max</th>\n",
       "    </tr>\n",
       "    <tr>\n",
       "        <td>1</td>\n",
       "        <td>1</td>\n",
       "        <td>Diane</td>\n",
       "        <td>Turner</td>\n",
       "        <td>1</td>\n",
       "        <td>5330</td>\n",
       "        <td>1</td>\n",
       "        <td>3617</td>\n",
       "        <td>5330</td>\n",
       "    </tr>\n",
       "    <tr>\n",
       "        <td>2</td>\n",
       "        <td>1</td>\n",
       "        <td>Clarence</td>\n",
       "        <td>Robinson</td>\n",
       "        <td>1</td>\n",
       "        <td>3617</td>\n",
       "        <td>1</td>\n",
       "        <td>3617</td>\n",
       "        <td>5330</td>\n",
       "    </tr>\n",
       "    <tr>\n",
       "        <td>3</td>\n",
       "        <td>1</td>\n",
       "        <td>Eugene</td>\n",
       "        <td>Phillips</td>\n",
       "        <td>1</td>\n",
       "        <td>4877</td>\n",
       "        <td>1</td>\n",
       "        <td>3617</td>\n",
       "        <td>5330</td>\n",
       "    </tr>\n",
       "    <tr>\n",
       "        <td>4</td>\n",
       "        <td>1</td>\n",
       "        <td>Philip</td>\n",
       "        <td>Mitchell</td>\n",
       "        <td>1</td>\n",
       "        <td>5259</td>\n",
       "        <td>1</td>\n",
       "        <td>3617</td>\n",
       "        <td>5330</td>\n",
       "    </tr>\n",
       "    <tr>\n",
       "        <td>9</td>\n",
       "        <td>3</td>\n",
       "        <td>Larry</td>\n",
       "        <td>Lee</td>\n",
       "        <td>3</td>\n",
       "        <td>2796</td>\n",
       "        <td>1</td>\n",
       "        <td>2796</td>\n",
       "        <td>6419</td>\n",
       "    </tr>\n",
       "    <tr>\n",
       "        <td>10</td>\n",
       "        <td>3</td>\n",
       "        <td>Willie</td>\n",
       "        <td>Patterson</td>\n",
       "        <td>3</td>\n",
       "        <td>4771</td>\n",
       "        <td>1</td>\n",
       "        <td>2796</td>\n",
       "        <td>6419</td>\n",
       "    </tr>\n",
       "    <tr>\n",
       "        <td>11</td>\n",
       "        <td>3</td>\n",
       "        <td>Janet</td>\n",
       "        <td>Ramirez</td>\n",
       "        <td>3</td>\n",
       "        <td>3782</td>\n",
       "        <td>1</td>\n",
       "        <td>2796</td>\n",
       "        <td>6419</td>\n",
       "    </tr>\n",
       "    <tr>\n",
       "        <td>12</td>\n",
       "        <td>3</td>\n",
       "        <td>Doris</td>\n",
       "        <td>Bryant</td>\n",
       "        <td>3</td>\n",
       "        <td>6419</td>\n",
       "        <td>1</td>\n",
       "        <td>2796</td>\n",
       "        <td>6419</td>\n",
       "    </tr>\n",
       "    <tr>\n",
       "        <td>13</td>\n",
       "        <td>3</td>\n",
       "        <td>Amy</td>\n",
       "        <td>Williams</td>\n",
       "        <td>3</td>\n",
       "        <td>6261</td>\n",
       "        <td>1</td>\n",
       "        <td>2796</td>\n",
       "        <td>6419</td>\n",
       "    </tr>\n",
       "    <tr>\n",
       "        <td>14</td>\n",
       "        <td>3</td>\n",
       "        <td>Keith</td>\n",
       "        <td>Scott</td>\n",
       "        <td>3</td>\n",
       "        <td>4928</td>\n",
       "        <td>1</td>\n",
       "        <td>2796</td>\n",
       "        <td>6419</td>\n",
       "    </tr>\n",
       "</table>"
      ],
      "text/plain": [
       "[(1, 1, 'Diane', 'Turner', 1, 5330, 1, 3617, 5330),\n",
       " (2, 1, 'Clarence', 'Robinson', 1, 3617, 1, 3617, 5330),\n",
       " (3, 1, 'Eugene', 'Phillips', 1, 4877, 1, 3617, 5330),\n",
       " (4, 1, 'Philip', 'Mitchell', 1, 5259, 1, 3617, 5330),\n",
       " (9, 3, 'Larry', 'Lee', 3, 2796, 1, 2796, 6419),\n",
       " (10, 3, 'Willie', 'Patterson', 3, 4771, 1, 2796, 6419),\n",
       " (11, 3, 'Janet', 'Ramirez', 3, 3782, 1, 2796, 6419),\n",
       " (12, 3, 'Doris', 'Bryant', 3, 6419, 1, 2796, 6419),\n",
       " (13, 3, 'Amy', 'Williams', 3, 6261, 1, 2796, 6419),\n",
       " (14, 3, 'Keith', 'Scott', 3, 4928, 1, 2796, 6419)]"
      ]
     },
     "execution_count": 187,
     "metadata": {},
     "output_type": "execute_result"
    }
   ],
   "source": [
    "%%sql\n",
    "\n",
    "SELECT\n",
    "  e.id,d.id,\n",
    "  first_name,\n",
    "  last_name,\n",
    "  department_id,\n",
    "  salary\n",
    "  MIN(salary) OVER(PARTITION BY department_id) as Min,\n",
    "  MAX(salary) OVER(PARTITION BY department_id) as Max\n",
    "FROM employee as e\n",
    "left Join department as d on d.id = e.department_id \n",
    "where e.department_id In (1,3)\n"
   ]
  },
  {
   "cell_type": "code",
   "execution_count": 184,
   "metadata": {},
   "outputs": [
    {
     "name": "stdout",
     "output_type": "stream",
     "text": [
      " * sqlite://\n",
      "Done.\n"
     ]
    },
    {
     "data": {
      "text/html": [
       "<table>\n",
       "    <tr>\n",
       "        <th>id</th>\n",
       "        <th>department_id</th>\n",
       "        <th>item</th>\n",
       "        <th>price</th>\n",
       "        <th>Avg</th>\n",
       "        <th>Avg_item</th>\n",
       "    </tr>\n",
       "    <tr>\n",
       "        <td>5</td>\n",
       "        <td>3</td>\n",
       "        <td>computer</td>\n",
       "        <td>2190</td>\n",
       "        <td>555.8333333333334</td>\n",
       "        <td>2190.0</td>\n",
       "    </tr>\n",
       "    <tr>\n",
       "        <td>8</td>\n",
       "        <td>3</td>\n",
       "        <td>monitor</td>\n",
       "        <td>388</td>\n",
       "        <td>555.8333333333334</td>\n",
       "        <td>388.0</td>\n",
       "    </tr>\n",
       "    <tr>\n",
       "        <td>17</td>\n",
       "        <td>3</td>\n",
       "        <td>paper</td>\n",
       "        <td>60</td>\n",
       "        <td>555.8333333333334</td>\n",
       "        <td>60.0</td>\n",
       "    </tr>\n",
       "    <tr>\n",
       "        <td>11</td>\n",
       "        <td>3</td>\n",
       "        <td>projector</td>\n",
       "        <td>407</td>\n",
       "        <td>555.8333333333334</td>\n",
       "        <td>407.0</td>\n",
       "    </tr>\n",
       "    <tr>\n",
       "        <td>3</td>\n",
       "        <td>3</td>\n",
       "        <td>whiteboard</td>\n",
       "        <td>170</td>\n",
       "        <td>555.8333333333334</td>\n",
       "        <td>145.0</td>\n",
       "    </tr>\n",
       "    <tr>\n",
       "        <td>7</td>\n",
       "        <td>3</td>\n",
       "        <td>whiteboard</td>\n",
       "        <td>120</td>\n",
       "        <td>555.8333333333334</td>\n",
       "        <td>145.0</td>\n",
       "    </tr>\n",
       "</table>"
      ],
      "text/plain": [
       "[(5, 3, 'computer', 2190, 555.8333333333334, 2190.0),\n",
       " (8, 3, 'monitor', 388, 555.8333333333334, 388.0),\n",
       " (17, 3, 'paper', 60, 555.8333333333334, 60.0),\n",
       " (11, 3, 'projector', 407, 555.8333333333334, 407.0),\n",
       " (3, 3, 'whiteboard', 170, 555.8333333333334, 145.0),\n",
       " (7, 3, 'whiteboard', 120, 555.8333333333334, 145.0)]"
      ]
     },
     "execution_count": 184,
     "metadata": {},
     "output_type": "execute_result"
    }
   ],
   "source": [
    "%%sql\n",
    "select *,\n",
    "Avg(price) over () as Avg,\n",
    "avg(price) over (partition by item) as Avg_item\n",
    "from purchase\n",
    "where department_id = 3;"
   ]
  },
  {
   "cell_type": "code",
   "execution_count": 189,
   "metadata": {},
   "outputs": [
    {
     "name": "stdout",
     "output_type": "stream",
     "text": [
      " * sqlite://\n",
      "Done.\n"
     ]
    },
    {
     "data": {
      "text/html": [
       "<table>\n",
       "    <tr>\n",
       "        <th>first_name</th>\n",
       "        <th>last_name</th>\n",
       "        <th>salary</th>\n",
       "        <th>name</th>\n",
       "    </tr>\n",
       "    <tr>\n",
       "        <td>Clarence</td>\n",
       "        <td>Robinson</td>\n",
       "        <td>3617</td>\n",
       "        <td>IT</td>\n",
       "    </tr>\n",
       "    <tr>\n",
       "        <td>Diane</td>\n",
       "        <td>Turner</td>\n",
       "        <td>5330</td>\n",
       "        <td>IT</td>\n",
       "    </tr>\n",
       "    <tr>\n",
       "        <td>Eugene</td>\n",
       "        <td>Phillips</td>\n",
       "        <td>4877</td>\n",
       "        <td>IT</td>\n",
       "    </tr>\n",
       "    <tr>\n",
       "        <td>Philip</td>\n",
       "        <td>Mitchell</td>\n",
       "        <td>5259</td>\n",
       "        <td>IT</td>\n",
       "    </tr>\n",
       "</table>"
      ],
      "text/plain": [
       "[('Clarence', 'Robinson', 3617, 'IT'),\n",
       " ('Diane', 'Turner', 5330, 'IT'),\n",
       " ('Eugene', 'Phillips', 4877, 'IT'),\n",
       " ('Philip', 'Mitchell', 5259, 'IT')]"
      ]
     },
     "execution_count": 189,
     "metadata": {},
     "output_type": "execute_result"
    }
   ],
   "source": [
    "%%sql\n",
    "select First_name, Last_name, Salary, d.name\n",
    "from employee as e\n",
    "Inner Join department as d on e.department_id=d.id\n",
    "where department_id = 1;"
   ]
  },
  {
   "cell_type": "code",
   "execution_count": null,
   "metadata": {},
   "outputs": [],
   "source": []
  }
 ],
 "metadata": {
  "kernelspec": {
   "display_name": "Python 3",
   "language": "python",
   "name": "python3"
  },
  "language_info": {
   "codemirror_mode": {
    "name": "ipython",
    "version": 3
   },
   "file_extension": ".py",
   "mimetype": "text/x-python",
   "name": "python",
   "nbconvert_exporter": "python",
   "pygments_lexer": "ipython3",
   "version": "3.8.5"
  }
 },
 "nbformat": 4,
 "nbformat_minor": 4
}
